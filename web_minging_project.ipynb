{
  "cells": [
    {
      "cell_type": "code",
      "execution_count": 25,
      "metadata": {
        "id": "xG_ZSMJuMhIH"
      },
      "outputs": [],
      "source": [
        "import requests\n",
        "from lxml import html\n",
        "import smtplib, ssl\n",
        "import time\n",
        "from bs4 import BeautifulSoup\n",
        "import pandas as pd\n",
        "import csv\n",
        "from datetime import datetime\n",
        "from google.colab import files\n",
        "import pytz\n",
        "\n"
      ]
    },
    {
      "cell_type": "code",
      "execution_count": 26,
      "metadata": {
        "id": "fFtd7Di6NG9p"
      },
      "outputs": [],
      "source": [
        "def check_price(URL):\n",
        "    headers = {\n",
        "        'User-Agent': 'Mozilla/5.0 (Windows NT 10.0; Win64; x64) AppleWebKit/537.36 (KHTML, like Gecko) Chrome/109.0.0.0 Safari/537.36',\n",
        "        'Accept-Encoding':  None\n",
        "    }\n",
        "    \n",
        "    page = requests.get(URL,headers=headers)\n",
        "    tree = html.fromstring(page.content)\n",
        "    \n",
        "    # open devolper option for amazon and note the class name or id name for the price\n",
        "    \n",
        "    price = tree.xpath('//span[@class=\"a-price-whole\"]/text()')[0]\n",
        "    return int(float(price.replace(',','')))\n"
      ]
    },
    {
      "cell_type": "code",
      "execution_count": 27,
      "metadata": {
        "id": "K-JSTEZ5NR1G"
      },
      "outputs": [],
      "source": [
        "def email_price(url,price):\n",
        "    \n",
        "    # please read this. As less securtiy option is not working in google. you have to on two step verification and next go to App password and set a password\n",
        "    \n",
        "    # add the mail and password\n",
        "    smtp_server = \"smtp.gmail.com\"\n",
        "    port = 587  # For starttls\n",
        "    \n",
        "    #Enter your mail id\n",
        "    sender_email = \"\"\n",
        "    \n",
        "    # Enter your password\n",
        "    password = \"\"\n",
        "\n",
        "    # Create a secure SSL context\n",
        "    context = ssl.create_default_context()\n",
        "    pm=pro_name(url)\n",
        "    # Try to log in to server and send email\n",
        "    try:\n",
        "        server = smtplib.SMTP(smtp_server, port)\n",
        "        server.ehlo()  # Can be omitted\n",
        "        server.starttls(context=context)  # Secure the connection\n",
        "        server.ehlo()  # Can be omitted\n",
        "        server.login(sender_email, password)\n",
        "        subject = \"Price fell down!\"\n",
        "        body=url\n",
        "        message= f\"Subject: {subject}\\n\\n{pm}\\n\\n{body}\\n\\n present price is {price}\"\n",
        "        server.sendmail(sender_email,sender_email,message)\n",
        "\n",
        "    except Exception as e:\n",
        "        # Print any error messages to stdout\n",
        "        print(e)\n",
        "    finally:\n",
        "        server.quit()\n",
        "\n"
      ]
    },
    {
      "cell_type": "code",
      "execution_count": 28,
      "metadata": {
        "id": "PWI33rySNjls"
      },
      "outputs": [],
      "source": [
        "def pro_name(url):\n",
        "  headers = {\n",
        "      'User-Agent': 'Mozilla/5.0 (Windows NT 10.0; Win64; x64) AppleWebKit/537.36 (KHTML, like Gecko) Chrome/109.0.0.0 Safari/537.36',\n",
        "      'Accept-Encoding': None\n",
        "  }     \n",
        "  response = requests.get(url, headers=headers)\n",
        "  soup = BeautifulSoup(response.text, \"html.parser\")\n",
        "  product_name = soup.find(\"span\", {\"id\": \"productTitle\"}).text.strip()\n",
        "  return product_name\n",
        "\n"
      ]
    },
    {
      "cell_type": "code",
      "execution_count": 29,
      "metadata": {
        "id": "u7UXhz3jNoqF"
      },
      "outputs": [],
      "source": [
        "\n",
        "def write_to_csv(product_name, price):\n",
        "    filename = \"/content/drive/MyDrive/{}.csv\".format(product_name)\n",
        "    headers = ['Date', 'Time', 'Price']\n",
        "\n",
        "    india_tz = pytz.timezone('Asia/Kolkata')\n",
        "    current_time = datetime.now(india_tz)\n",
        "\n",
        "    rows = [[datetime.now().strftime(\"%Y-%m-%d\"), current_time.strftime(\"%H:%M:%S\"), price]]\n",
        "    # if the file does not exist, create a new file with headers\n",
        "    try:\n",
        "        with open(filename, 'x') as f:\n",
        "            writer = csv.writer(f)\n",
        "            writer.writerow(headers)\n",
        "            writer.writerows(rows)\n",
        "    except FileExistsError:\n",
        "        # if the file already exists, append new data to it\n",
        "        with open(filename, 'a') as f:\n",
        "            writer = csv.writer(f)\n",
        "            writer.writerows(rows)\n",
        "\n"
      ]
    },
    {
      "cell_type": "code",
      "execution_count": 30,
      "metadata": {
        "id": "ESB58axlOW5t"
      },
      "outputs": [],
      "source": [
        "def collect_data(url):\n",
        "    headers = {\n",
        "        'User-Agent': 'Mozilla/5.0 (Windows NT 10.0; Win64; x64) AppleWebKit/537.36 (KHTML, like Gecko) Chrome/103.0.5060.53 Safari/537.36',\n",
        "        'Accept-Encoding': None\n",
        "    }\n",
        "    response = requests.get(url, headers=headers)\n",
        "    soup = BeautifulSoup(response.text, \"html.parser\")\n",
        "\n",
        "    review_section = soup.find(\"div\", {\"id\": \"reviews-medley-footer\"})\n",
        "    review_links = review_section.find_all(\"a\")\n",
        "\n",
        "    for link in review_links:\n",
        "        href = link.get(\"href\")\n",
        "        if href.startswith(\"http\" + \"&pageNumber=\"):\n",
        "            url1 = href + \"&pageNumber=\"\n",
        "        else:\n",
        "            url1 = \"https://www.amazon.in\" + href + \"&pageNumber=\"\n",
        "    # creating the dataframe\n",
        "    cust_name = []\n",
        "    rev_date = []\n",
        "    ratings = []\n",
        "    rev_title = []\n",
        "    rev_content = []\n",
        "    for page in range(1, 35):\n",
        "        new_url = url1 + str(page)\n",
        "        code = requests.get(new_url, headers=headers)\n",
        "        if str(code) == \"<Response [200]>\":\n",
        "            soup = BeautifulSoup(code.content, 'html.parser')\n",
        "            names = soup.select('span.a-profile-name')[2:]\n",
        "            titles = soup.select('a.review-title span')\n",
        "            dates = soup.select('span.review-date')[2:]\n",
        "            stars = soup.select('i.review-rating span.a-icon-alt')[2:]\n",
        "            reviews = soup.select('span.review-text-content span')\n",
        "            h = min(len(titles), len(dates), len(stars), len(reviews))\n",
        "            for i in range(h):\n",
        "                cust_name.append(names[i].get_text())\n",
        "                rev_date.append(dates[i].get_text().replace(\"Reviewed in India on \", \"\"))\n",
        "                ratings.append(stars[i].get_text().replace(\"out of 5 stars\",\"\"))\n",
        "                rev_title.append(titles[i].get_text())\n",
        "                rev_content.append(reviews[i].get_text().strip(\"\\n \"))\n",
        "    df = pd.DataFrame()\n",
        "    df['Customer Name'] = cust_name\n",
        "    df['Date'] = rev_date\n",
        "    df['Ratings'] = ratings\n",
        "    df['Review Title'] = rev_title\n",
        "    df['Reviews'] = rev_content\n",
        "    df.to_csv('amazon.csv')\n",
        "    from google.colab import files\n",
        "    files.download('amazon.csv')\n",
        "    \n"
      ]
    },
    {
      "cell_type": "code",
      "execution_count": 31,
      "metadata": {
        "id": "UVUEz9mDNWLk"
      },
      "outputs": [],
      "source": [
        "def repl(pm):\n",
        "    pm=pm.replace(\" \",\"_\")\n",
        "    pm=pm.replace(\"-\",\"_\")\n",
        "    pm=pm.replace(\"/\",\"_\")\n",
        "    pm=pm.replace(\"\\\\\",\"_\")\n",
        "    return pm"
      ]
    },
    {
      "cell_type": "code",
      "execution_count": null,
      "metadata": {
        "colab": {
          "background_save": true,
          "base_uri": "https://localhost:8080/",
          "height": 86
        },
        "id": "LYsw6S3cNTo4",
        "outputId": "6c9144c0-88df-49e9-fa83-7593d3a025e0"
      },
      "outputs": [
        {
          "output_type": "display_data",
          "data": {
            "text/plain": [
              "<IPython.core.display.Javascript object>"
            ],
            "application/javascript": [
              "\n",
              "    async function download(id, filename, size) {\n",
              "      if (!google.colab.kernel.accessAllowed) {\n",
              "        return;\n",
              "      }\n",
              "      const div = document.createElement('div');\n",
              "      const label = document.createElement('label');\n",
              "      label.textContent = `Downloading \"${filename}\": `;\n",
              "      div.appendChild(label);\n",
              "      const progress = document.createElement('progress');\n",
              "      progress.max = size;\n",
              "      div.appendChild(progress);\n",
              "      document.body.appendChild(div);\n",
              "\n",
              "      const buffers = [];\n",
              "      let downloaded = 0;\n",
              "\n",
              "      const channel = await google.colab.kernel.comms.open(id);\n",
              "      // Send a message to notify the kernel that we're ready.\n",
              "      channel.send({})\n",
              "\n",
              "      for await (const message of channel.messages) {\n",
              "        // Send a message to notify the kernel that we're ready.\n",
              "        channel.send({})\n",
              "        if (message.buffers) {\n",
              "          for (const buffer of message.buffers) {\n",
              "            buffers.push(buffer);\n",
              "            downloaded += buffer.byteLength;\n",
              "            progress.value = downloaded;\n",
              "          }\n",
              "        }\n",
              "      }\n",
              "      const blob = new Blob(buffers, {type: 'application/binary'});\n",
              "      const a = document.createElement('a');\n",
              "      a.href = window.URL.createObjectURL(blob);\n",
              "      a.download = filename;\n",
              "      div.appendChild(a);\n",
              "      a.click();\n",
              "      div.remove();\n",
              "    }\n",
              "  "
            ]
          },
          "metadata": {}
        },
        {
          "output_type": "display_data",
          "data": {
            "text/plain": [
              "<IPython.core.display.Javascript object>"
            ],
            "application/javascript": [
              "download(\"download_2bdaa989-26a4-47f4-805b-50c17e489c92\", \"amazon.csv\", 20301)"
            ]
          },
          "metadata": {}
        },
        {
          "output_type": "stream",
          "name": "stdout",
          "text": [
            "Apple_iPhone_14_128GB_(Product)_RED\n",
            "72499\n",
            "The mail is sent\n"
          ]
        }
      ],
      "source": [
        "if __name__ == \"__main__\":\n",
        "    url = \"https://www.amazon.in/Apple-iPhone-128GB-Product-RED/dp/B0BDJVSDMY/ref=sr_1_1_sspa?crid=3BPUGJSPF8GK3&keywords=iphone+14&qid=1675792641&sprefix=iphone%2Caps%2C243&sr=8-1-spons&sp_csd=d2lkZ2V0TmFtZT1zcF9hdGY&psc=1\"\n",
        "    collect_data(url)\n",
        "    pm = pro_name(url)\n",
        "    pm=repl(pm)\n",
        "    print(pm)\n",
        "    i=0\n",
        "    while(True):\n",
        "        price = check_price(url)\n",
        "        if (price) < 80000:\n",
        "            email_price(url,price)\n",
        "            print(price)\n",
        "            print(\"The mail is sent\")\n",
        "            write_to_csv(pm, price)\n",
        "        else:\n",
        "            print(\"the price did not fell\")\n",
        "            write_to_csv(pm, price)\n",
        "        i=i+1\n",
        "        time.sleep((60*60*4))"
      ]
    }
  ],
  "metadata": {
    "colab": {
      "provenance": []
    },
    "kernelspec": {
      "display_name": "Python 3",
      "name": "python3"
    },
    "language_info": {
      "name": "python"
    }
  },
  "nbformat": 4,
  "nbformat_minor": 0
}
